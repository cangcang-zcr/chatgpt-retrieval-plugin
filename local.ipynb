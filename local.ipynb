{
 "cells": [
  {
   "cell_type": "code",
   "execution_count": 5,
   "id": "c2a46b17",
   "metadata": {},
   "outputs": [],
   "source": [
    "from langchain.document_loaders import ReadTheDocsLoader,UnstructuredFileLoader\n"
   ]
  },
  {
   "cell_type": "code",
   "execution_count": 8,
   "id": "c2768b37",
   "metadata": {},
   "outputs": [],
   "source": [
    "loader = UnstructuredFileLoader(\"./data/《我在亮剑当战狼》作者：寂寞剑客.txt\")"
   ]
  },
  {
   "cell_type": "code",
   "execution_count": 9,
   "id": "b6278c2c",
   "metadata": {},
   "outputs": [],
   "source": [
    "docs = loader.load()\n"
   ]
  },
  {
   "cell_type": "code",
   "execution_count": 10,
   "id": "b5ddd108",
   "metadata": {},
   "outputs": [
    {
     "data": {
      "text/plain": [
       "1"
      ]
     },
     "execution_count": 10,
     "metadata": {},
     "output_type": "execute_result"
    }
   ],
   "source": [
    "len(docs)\n"
   ]
  },
  {
   "cell_type": "code",
   "execution_count": null,
   "id": "c6aeb0e6",
   "metadata": {},
   "outputs": [],
   "source": []
  },
  {
   "cell_type": "code",
   "execution_count": 33,
   "id": "5068307e",
   "metadata": {},
   "outputs": [
    {
     "data": {
      "text/plain": [
       "'我在亮剑当战狼》作者：寂寞剑客'"
      ]
     },
     "execution_count": 33,
     "metadata": {},
     "output_type": "execute_result"
    }
   ],
   "source": [
    "docs[0].metadata['source'].replace('./data/《我在亮剑当战狼》作者：寂寞剑客.txt', '我在亮剑当战狼》作者：寂寞剑客')\n"
   ]
  },
  {
   "cell_type": "code",
   "execution_count": 31,
   "id": "be61447e",
   "metadata": {},
   "outputs": [
    {
     "name": "stdout",
     "output_type": "stream",
     "text": [
      "{'source': './data/《我在亮剑当战狼》作者：寂寞剑客.txt'}\n"
     ]
    }
   ],
   "source": [
    "print(docs[0].metadata)"
   ]
  },
  {
   "cell_type": "code",
   "execution_count": 44,
   "id": "b847a6b8",
   "metadata": {},
   "outputs": [],
   "source": [
    "import tiktoken\n",
    "\n",
    "tokenizer = tiktoken.get_encoding('cl100k_base')\n",
    "\n",
    "# create the length function\n",
    "def tiktoken_len(text):\n",
    "    tokens = tokenizer.encode(\n",
    "        text,\n",
    "        disallowed_special=()\n",
    "    )\n",
    "    return len(tokens)"
   ]
  },
  {
   "cell_type": "code",
   "execution_count": 66,
   "id": "ac44e91e",
   "metadata": {},
   "outputs": [
    {
     "data": {
      "text/plain": [
       "<Encoding 'cl100k_base'>"
      ]
     },
     "execution_count": 66,
     "metadata": {},
     "output_type": "execute_result"
    }
   ],
   "source": [
    "tiktoken.encoding_for_model('gpt-3.5-turbo')\n"
   ]
  },
  {
   "cell_type": "code",
   "execution_count": 67,
   "id": "3bf39ca7",
   "metadata": {},
   "outputs": [],
   "source": [
    "from langchain.text_splitter import RecursiveCharacterTextSplitter\n",
    "\n",
    "text_splitter = RecursiveCharacterTextSplitter(\n",
    "    chunk_size=400,\n",
    "    chunk_overlap=20,  # number of tokens overlap between chunks\n",
    "    length_function=tiktoken_len,\n",
    "    separators=['\\n\\n', '\\n', ' ', '']\n",
    ")"
   ]
  },
  {
   "cell_type": "code",
   "execution_count": 68,
   "id": "bf662d38",
   "metadata": {},
   "outputs": [
    {
     "data": {
      "text/plain": [
       "10659"
      ]
     },
     "execution_count": 68,
     "metadata": {},
     "output_type": "execute_result"
    }
   ],
   "source": [
    "chunks = text_splitter.split_text(docs[0].page_content)\n",
    "len(chunks)"
   ]
  },
  {
   "cell_type": "code",
   "execution_count": 69,
   "id": "8f06a675",
   "metadata": {},
   "outputs": [
    {
     "data": {
      "text/plain": [
       "(383, 375)"
      ]
     },
     "execution_count": 69,
     "metadata": {},
     "output_type": "execute_result"
    }
   ],
   "source": [
    "tiktoken_len(chunks[0]), tiktoken_len(chunks[1])\n"
   ]
  },
  {
   "cell_type": "code",
   "execution_count": 70,
   "id": "9c481168",
   "metadata": {},
   "outputs": [],
   "source": [
    "import hashlib\n",
    "m = hashlib.md5()"
   ]
  },
  {
   "cell_type": "code",
   "execution_count": 87,
   "id": "bc5c45c3",
   "metadata": {},
   "outputs": [
    {
     "data": {
      "application/vnd.jupyter.widget-view+json": {
       "model_id": "f237503f3a6b41599b58aff83168a019",
       "version_major": 2,
       "version_minor": 0
      },
      "text/plain": [
       "  0%|          | 0/1 [00:00<?, ?it/s]"
      ]
     },
     "metadata": {},
     "output_type": "display_data"
    },
    {
     "data": {
      "text/plain": [
       "10659"
      ]
     },
     "execution_count": 87,
     "metadata": {},
     "output_type": "execute_result"
    }
   ],
   "source": [
    "from tqdm.auto import tqdm\n",
    "\n",
    "documents = []\n",
    "\n",
    "for doc in tqdm(docs):\n",
    "    info = doc.metadata['source'].replace('./data/《我在亮剑当战狼》作者：寂寞剑客.txt', '我在亮剑当战狼》作者：寂寞剑客')\n",
    "    m.update(info.encode('utf-8'))\n",
    "    uid = m.hexdigest()[:12]\n",
    "    chunks = text_splitter.split_text(doc.page_content)\n",
    "    for i, chunk in enumerate(chunks):\n",
    "        documents.append({\n",
    "            'id': f'{uid}-{i}',\n",
    "            'text': chunk,\n",
    "            'metadata': {'info': info}\n",
    "        })\n",
    "\n",
    "len(documents)"
   ]
  },
  {
   "cell_type": "code",
   "execution_count": 135,
   "id": "116eb986",
   "metadata": {},
   "outputs": [
    {
     "data": {
      "application/vnd.jupyter.widget-view+json": {
       "model_id": "21906f839dbf4690a0696dade7dd06ba",
       "version_major": 2,
       "version_minor": 0
      },
      "text/plain": [
       "  0%|          | 0/10 [00:00<?, ?it/s]"
      ]
     },
     "metadata": {},
     "output_type": "display_data"
    }
   ],
   "source": [
    "from tqdm.auto import tqdm\n",
    "import requests\n",
    "from requests.adapters import HTTPAdapter, Retry\n",
    "\n",
    "batch_size = 100\n",
    "endpoint_url = \"http://localhost:8000\"\n",
    "s = requests.Session()\n",
    "\n",
    "# we setup a retry strategy to retry on 5xx errors\n",
    "retries = Retry(\n",
    "    total=5,  # number of retries before raising error\n",
    "    backoff_factor=0.1,\n",
    "    status_forcelist=[500, 502, 503, 504]\n",
    ")\n",
    "s.mount('http://', HTTPAdapter(max_retries=retries))\n",
    "\n",
    "for i in tqdm(range(0, 1000, batch_size)):\n",
    "    i_end = min(len(documents), i+batch_size)\n",
    "    # make post request that allows up to 5 retries\n",
    "    res = s.post(\n",
    "        f\"{endpoint_url}/upsert\",\n",
    "        json={\n",
    "            \"documents\": documents[i:i_end]\n",
    "        }\n",
    "    )"
   ]
  },
  {
   "cell_type": "code",
   "execution_count": null,
   "id": "9949d61a",
   "metadata": {},
   "outputs": [],
   "source": []
  },
  {
   "cell_type": "code",
   "execution_count": 136,
   "id": "8d63ffaf",
   "metadata": {},
   "outputs": [
    {
     "data": {
      "text/plain": [
       "<Response [200]>"
      ]
     },
     "execution_count": 136,
     "metadata": {},
     "output_type": "execute_result"
    }
   ],
   "source": [
    "queries = [\n",
    "    {'query': \"你知道我在亮剑当战狼这本书吗?\"},\n",
    "\n",
    "]\n",
    "\n",
    "res = requests.post(\n",
    "    f\"{endpoint_url}/query\",\n",
    "    json={\n",
    "        'queries': queries\n",
    "    }\n",
    ")\n",
    "res"
   ]
  },
  {
   "cell_type": "code",
   "execution_count": 137,
   "id": "0e3199b5",
   "metadata": {},
   "outputs": [
    {
     "name": "stdout",
     "output_type": "stream",
     "text": [
      "----------------------------------------------------------------------\n",
      "你知道我在亮剑当战狼这本书吗?\n",
      "\n",
      "0.16: 围着火堆而坐的战狼便纷纷开始咒骂起魏大勇。  王喜奎一边骂一边捡起马肉干，掏出刺刀分切。  王野却走到那个鬼子战俘近前，抓起他的帆布挎包倒过来一抖，便从里边倒出来不少物件，还有一个日本记，居然还是带有徽章的笔记本。  早稻田大学留念？居然还是个大学生？  打开日记本一看，居然写的中文。  王野便心\n",
      "0.17: �能啊。”十几头战狼愣了几秒钟，还是魏大勇最先反应过来，笑着说道，“就凭大王你的身手，就只有你杀鬼子的份，鬼子哪杀得了你？”  “屁，说谎你都不会说。”王野骂了一句，又说道，“都跟我走。”  “哎。”十几头战狼答应一声，纷纷翻身上马，就没有一个人问王野要去哪？\n",
      "0.17: �天你跟俺一块跟警卫连打过架，就可以对俺呼来喝去，真把俺惹急了，揍死你个狗日的。  闷哼一声，魏大勇又道：“俺已经习惯了应有。”  听到这话，其他的队员便刷的看过来，脸上也流露出幸灾乐祸之色。  战狼小队是已经成立了，王野也已经被委任为小队长，但这绝不意味着这些队员就会对王野俯首贴耳、言听计从。\n",
      "----------------------------------------------------------------------\n",
      "\n",
      "\n"
     ]
    }
   ],
   "source": [
    "for query_result in res.json()['results']:\n",
    "    query = query_result['query']\n",
    "    answers = []\n",
    "    scores = []\n",
    "    for result in query_result['results']:\n",
    "        answers.append(result['text'])\n",
    "        scores.append(round(result['score'], 2))\n",
    "    print(\"-\"*70+\"\\n\"+query+\"\\n\\n\"+\"\\n\".join([f\"{s}: {a}\" for a, s in zip(answers, scores)])+\"\\n\"+\"-\"*70+\"\\n\\n\")"
   ]
  },
  {
   "cell_type": "code",
   "execution_count": 138,
   "id": "66b778cf",
   "metadata": {},
   "outputs": [
    {
     "data": {
      "text/plain": [
       "[{'query': '你知道我在亮剑当战狼这本书吗?',\n",
       "  'results': [{'id': '0e61cad1cb57-655',\n",
       "    'text': '围着火堆而坐的战狼便纷纷开始咒骂起魏大勇。  王喜奎一边骂一边捡起马肉干，掏出刺刀分切。  王野却走到那个鬼子战俘近前，抓起他的帆布挎包倒过来一抖，便从里边倒出来不少物件，还有一个日本记，居然还是带有徽章的笔记本。  早稻田大学留念？居然还是个大学生？  打开日记本一看，居然写的中文。  王野便心',\n",
       "    'metadata': {'source': 'chat',\n",
       "     'source_id': None,\n",
       "     'url': None,\n",
       "     'created_at': None,\n",
       "     'author': None,\n",
       "     'document_id': '0e61cad1cb57-655'},\n",
       "    'embedding': None,\n",
       "    'score': 0.160749652449},\n",
       "   {'id': '0e61cad1cb57-351',\n",
       "    'text': '�能啊。”十几头战狼愣了几秒钟，还是魏大勇最先反应过来，笑着说道，“就凭大王你的身手，就只有你杀鬼子的份，鬼子哪杀得了你？”  “屁，说谎你都不会说。”王野骂了一句，又说道，“都跟我走。”  “哎。”十几头战狼答应一声，纷纷翻身上马，就没有一个人问王野要去哪？',\n",
       "    'metadata': {'source': 'chat',\n",
       "     'source_id': None,\n",
       "     'url': None,\n",
       "     'created_at': None,\n",
       "     'author': None,\n",
       "     'document_id': '0e61cad1cb57-351'},\n",
       "    'embedding': None,\n",
       "    'score': 0.165819300036},\n",
       "   {'id': '0e61cad1cb57-152',\n",
       "    'text': '�天你跟俺一块跟警卫连打过架，就可以对俺呼来喝去，真把俺惹急了，揍死你个狗日的。  闷哼一声，魏大勇又道：“俺已经习惯了应有。”  听到这话，其他的队员便刷的看过来，脸上也流露出幸灾乐祸之色。  战狼小队是已经成立了，王野也已经被委任为小队长，但这绝不意味着这些队员就会对王野俯首贴耳、言听计从。',\n",
       "    'metadata': {'source': 'chat',\n",
       "     'source_id': None,\n",
       "     'url': None,\n",
       "     'created_at': None,\n",
       "     'author': None,\n",
       "     'document_id': '0e61cad1cb57-152'},\n",
       "    'embedding': None,\n",
       "    'score': 0.167355428185}]}]"
      ]
     },
     "execution_count": 138,
     "metadata": {},
     "output_type": "execute_result"
    }
   ],
   "source": [
    "res.json()['results']"
   ]
  },
  {
   "cell_type": "code",
   "execution_count": null,
   "id": "ff04bfa8",
   "metadata": {},
   "outputs": [],
   "source": []
  },
  {
   "cell_type": "code",
   "execution_count": null,
   "id": "c415a301",
   "metadata": {},
   "outputs": [],
   "source": []
  },
  {
   "cell_type": "code",
   "execution_count": null,
   "id": "9ba939cd",
   "metadata": {},
   "outputs": [],
   "source": []
  },
  {
   "cell_type": "code",
   "execution_count": null,
   "id": "e7cc9bfc",
   "metadata": {},
   "outputs": [],
   "source": []
  }
 ],
 "metadata": {
  "kernelspec": {
   "display_name": "Python 3 (ipykernel)",
   "language": "python",
   "name": "python3"
  },
  "language_info": {
   "codemirror_mode": {
    "name": "ipython",
    "version": 3
   },
   "file_extension": ".py",
   "mimetype": "text/x-python",
   "name": "python",
   "nbconvert_exporter": "python",
   "pygments_lexer": "ipython3",
   "version": "3.10.10"
  }
 },
 "nbformat": 4,
 "nbformat_minor": 5
}
